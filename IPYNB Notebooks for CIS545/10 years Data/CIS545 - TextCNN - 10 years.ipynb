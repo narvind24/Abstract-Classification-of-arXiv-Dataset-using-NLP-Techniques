{
  "cells": [
    {
      "cell_type": "markdown",
      "source": [
        "Project Name: **Classification of Abstracts from arXiv publications into their most relevant category**\n",
        "\n",
        "Course: **CIS 545**\n",
        "\n",
        "Project Members: **Arvind Balaji Narayan, Bharathrushab Manthripragada, Gopik Anand**"
      ],
      "metadata": {
        "id": "s-vA0184oVo6"
      }
    },
    {
      "cell_type": "markdown",
      "source": [
        "**Model Used: TextCNN**\n",
        "\n",
        "TextCNN is the Convolution Neural Network that is specifically used for tasks concerning text classification. These require word embeddings to semantically map similar word structures used in the corpus. As a result, we use pre-trained Glove embeddings to output an embedding matrix that takes in the generated word embeddings as input."
      ],
      "metadata": {
        "id": "IxDtbwE8yEsv"
      }
    },
    {
      "cell_type": "markdown",
      "source": [
        "Package Installations"
      ],
      "metadata": {
        "id": "HgIqck_zoGxZ"
      }
    },
    {
      "cell_type": "code",
      "source": [
        "import random\n",
        "import copy\n",
        "import time\n",
        "import pandas as pd\n",
        "import numpy as np\n",
        "import gc\n",
        "import re\n",
        "import torch as t\n",
        "\n",
        "#import spacy\n",
        "from tqdm import tqdm_notebook, tnrange\n",
        "from tqdm.auto import tqdm\n",
        "\n",
        "tqdm.pandas(desc='Progress')\n",
        "from collections import Counter\n",
        "\n",
        "from nltk.tokenize import word_tokenize\n",
        "from nltk import pos_tag\n",
        "from nltk.corpus import stopwords\n",
        "from nltk.stem import WordNetLemmatizer\n",
        "from sklearn.preprocessing import LabelEncoder\n",
        "from collections import defaultdict\n",
        "from nltk.corpus import wordnet as wn\n",
        "from sklearn.feature_extraction.text import TfidfVectorizer\n",
        "from sklearn.metrics import accuracy_score\n",
        "\n",
        "import torch.nn as nn\n",
        "import torch.optim as optim\n",
        "import torch.nn.functional as F\n",
        "from torch.utils.data import Dataset, DataLoader\n",
        "from torch.nn.utils.rnn import pack_padded_sequence, pad_packed_sequence\n",
        "from torch.autograd import Variable\n",
        "import os \n",
        "\n",
        "# cross validation and metrics\n",
        "from sklearn.model_selection import StratifiedKFold\n",
        "from sklearn.metrics import f1_score\n",
        "\n",
        "from sklearn.preprocessing import StandardScaler\n",
        "from multiprocessing import  Pool\n",
        "from functools import partial\n",
        "from sklearn.decomposition import PCA\n",
        "\n",
        "import matplotlib.pyplot as plt"
      ],
      "metadata": {
        "id": "yhre2N1TtnTY"
      },
      "execution_count": 1,
      "outputs": []
    },
    {
      "cell_type": "code",
      "source": [
        "!pip install transformers"
      ],
      "metadata": {
        "colab": {
          "base_uri": "https://localhost:8080/"
        },
        "id": "bjdTfAt-5h6i",
        "outputId": "b6933680-391e-4353-9616-5cf75bf9c44f"
      },
      "execution_count": 2,
      "outputs": [
        {
          "output_type": "stream",
          "name": "stdout",
          "text": [
            "Collecting transformers\n",
            "  Downloading transformers-4.18.0-py3-none-any.whl (4.0 MB)\n",
            "\u001b[K     |████████████████████████████████| 4.0 MB 5.5 MB/s \n",
            "\u001b[?25hRequirement already satisfied: filelock in /usr/local/lib/python3.7/dist-packages (from transformers) (3.6.0)\n",
            "Collecting huggingface-hub<1.0,>=0.1.0\n",
            "  Downloading huggingface_hub-0.5.1-py3-none-any.whl (77 kB)\n",
            "\u001b[K     |████████████████████████████████| 77 kB 6.7 MB/s \n",
            "\u001b[?25hRequirement already satisfied: tqdm>=4.27 in /usr/local/lib/python3.7/dist-packages (from transformers) (4.64.0)\n",
            "Collecting pyyaml>=5.1\n",
            "  Downloading PyYAML-6.0-cp37-cp37m-manylinux_2_5_x86_64.manylinux1_x86_64.manylinux_2_12_x86_64.manylinux2010_x86_64.whl (596 kB)\n",
            "\u001b[K     |████████████████████████████████| 596 kB 40.5 MB/s \n",
            "\u001b[?25hRequirement already satisfied: numpy>=1.17 in /usr/local/lib/python3.7/dist-packages (from transformers) (1.21.6)\n",
            "Requirement already satisfied: packaging>=20.0 in /usr/local/lib/python3.7/dist-packages (from transformers) (21.3)\n",
            "Requirement already satisfied: requests in /usr/local/lib/python3.7/dist-packages (from transformers) (2.23.0)\n",
            "Requirement already satisfied: regex!=2019.12.17 in /usr/local/lib/python3.7/dist-packages (from transformers) (2019.12.20)\n",
            "Collecting sacremoses\n",
            "  Downloading sacremoses-0.0.50.tar.gz (880 kB)\n",
            "\u001b[K     |████████████████████████████████| 880 kB 41.2 MB/s \n",
            "\u001b[?25hCollecting tokenizers!=0.11.3,<0.13,>=0.11.1\n",
            "  Downloading tokenizers-0.12.1-cp37-cp37m-manylinux_2_12_x86_64.manylinux2010_x86_64.whl (6.6 MB)\n",
            "\u001b[K     |████████████████████████████████| 6.6 MB 35.6 MB/s \n",
            "\u001b[?25hRequirement already satisfied: importlib-metadata in /usr/local/lib/python3.7/dist-packages (from transformers) (4.11.3)\n",
            "Requirement already satisfied: typing-extensions>=3.7.4.3 in /usr/local/lib/python3.7/dist-packages (from huggingface-hub<1.0,>=0.1.0->transformers) (4.2.0)\n",
            "Requirement already satisfied: pyparsing!=3.0.5,>=2.0.2 in /usr/local/lib/python3.7/dist-packages (from packaging>=20.0->transformers) (3.0.8)\n",
            "Requirement already satisfied: zipp>=0.5 in /usr/local/lib/python3.7/dist-packages (from importlib-metadata->transformers) (3.8.0)\n",
            "Requirement already satisfied: urllib3!=1.25.0,!=1.25.1,<1.26,>=1.21.1 in /usr/local/lib/python3.7/dist-packages (from requests->transformers) (1.24.3)\n",
            "Requirement already satisfied: chardet<4,>=3.0.2 in /usr/local/lib/python3.7/dist-packages (from requests->transformers) (3.0.4)\n",
            "Requirement already satisfied: certifi>=2017.4.17 in /usr/local/lib/python3.7/dist-packages (from requests->transformers) (2021.10.8)\n",
            "Requirement already satisfied: idna<3,>=2.5 in /usr/local/lib/python3.7/dist-packages (from requests->transformers) (2.10)\n",
            "Requirement already satisfied: six in /usr/local/lib/python3.7/dist-packages (from sacremoses->transformers) (1.15.0)\n",
            "Collecting click==8.0\n",
            "  Downloading click-8.0.0-py3-none-any.whl (96 kB)\n",
            "\u001b[K     |████████████████████████████████| 96 kB 4.9 MB/s \n",
            "\u001b[?25hRequirement already satisfied: joblib in /usr/local/lib/python3.7/dist-packages (from sacremoses->transformers) (1.1.0)\n",
            "Building wheels for collected packages: sacremoses\n",
            "  Building wheel for sacremoses (setup.py) ... \u001b[?25l\u001b[?25hdone\n",
            "  Created wheel for sacremoses: filename=sacremoses-0.0.50-py3-none-any.whl size=895166 sha256=ee84fde96dba9ab60c942d84f61b4371a19e901f81e04942881c1def33f1a482\n",
            "  Stored in directory: /root/.cache/pip/wheels/d9/72/54/519f0d5143cc6c73fa3297509123c86fc8586a7fdea8d25311\n",
            "Successfully built sacremoses\n",
            "Installing collected packages: pyyaml, click, tokenizers, sacremoses, huggingface-hub, transformers\n",
            "  Attempting uninstall: pyyaml\n",
            "    Found existing installation: PyYAML 3.13\n",
            "    Uninstalling PyYAML-3.13:\n",
            "      Successfully uninstalled PyYAML-3.13\n",
            "  Attempting uninstall: click\n",
            "    Found existing installation: click 7.1.2\n",
            "    Uninstalling click-7.1.2:\n",
            "      Successfully uninstalled click-7.1.2\n",
            "\u001b[31mERROR: pip's dependency resolver does not currently take into account all the packages that are installed. This behaviour is the source of the following dependency conflicts.\n",
            "flask 1.1.4 requires click<8.0,>=5.1, but you have click 8.0.0 which is incompatible.\u001b[0m\n",
            "Successfully installed click-8.0.0 huggingface-hub-0.5.1 pyyaml-6.0 sacremoses-0.0.50 tokenizers-0.12.1 transformers-4.18.0\n"
          ]
        }
      ]
    },
    {
      "cell_type": "code",
      "execution_count": 3,
      "metadata": {
        "colab": {
          "base_uri": "https://localhost:8080/"
        },
        "id": "b9hHnlHbmeYC",
        "outputId": "1bea981a-a1e6-4c4f-e5d2-a333a111e2e3"
      },
      "outputs": [
        {
          "output_type": "stream",
          "name": "stdout",
          "text": [
            "Requirement already satisfied: kaggle in /usr/local/lib/python3.7/dist-packages (1.5.12)\n",
            "Requirement already satisfied: urllib3 in /usr/local/lib/python3.7/dist-packages (from kaggle) (1.24.3)\n",
            "Requirement already satisfied: python-slugify in /usr/local/lib/python3.7/dist-packages (from kaggle) (6.1.2)\n",
            "Requirement already satisfied: tqdm in /usr/local/lib/python3.7/dist-packages (from kaggle) (4.64.0)\n",
            "Requirement already satisfied: certifi in /usr/local/lib/python3.7/dist-packages (from kaggle) (2021.10.8)\n",
            "Requirement already satisfied: six>=1.10 in /usr/local/lib/python3.7/dist-packages (from kaggle) (1.15.0)\n",
            "Requirement already satisfied: requests in /usr/local/lib/python3.7/dist-packages (from kaggle) (2.23.0)\n",
            "Requirement already satisfied: python-dateutil in /usr/local/lib/python3.7/dist-packages (from kaggle) (2.8.2)\n",
            "Requirement already satisfied: text-unidecode>=1.3 in /usr/local/lib/python3.7/dist-packages (from python-slugify->kaggle) (1.3)\n",
            "Requirement already satisfied: chardet<4,>=3.0.2 in /usr/local/lib/python3.7/dist-packages (from requests->kaggle) (3.0.4)\n",
            "Requirement already satisfied: idna<3,>=2.5 in /usr/local/lib/python3.7/dist-packages (from requests->kaggle) (2.10)\n"
          ]
        }
      ],
      "source": [
        "!pip install kaggle"
      ]
    },
    {
      "cell_type": "markdown",
      "source": [
        "Loading the arXiv Dataset "
      ],
      "metadata": {
        "id": "zKhhuGxmz6xK"
      }
    },
    {
      "cell_type": "code",
      "execution_count": 4,
      "metadata": {
        "id": "C6dxwOMXmilB"
      },
      "outputs": [],
      "source": [
        "!mkdir ~/.kaggle\n",
        "!cp kaggle.json ~/.kaggle/"
      ]
    },
    {
      "cell_type": "code",
      "execution_count": 5,
      "metadata": {
        "colab": {
          "base_uri": "https://localhost:8080/"
        },
        "id": "UX3y5wLSrJCa",
        "outputId": "ff098224-cbf4-4fc2-86cb-3ce1b4714e89"
      },
      "outputs": [
        {
          "output_type": "stream",
          "name": "stdout",
          "text": [
            "Warning: Your Kaggle API key is readable by other users on this system! To fix this, you can run 'chmod 600 /root/.kaggle/kaggle.json'\n",
            "Downloading arxiv.zip to /content\n",
            "100% 1.04G/1.04G [00:13<00:00, 77.9MB/s]\n",
            "100% 1.04G/1.04G [00:13<00:00, 81.0MB/s]\n"
          ]
        }
      ],
      "source": [
        "!kaggle datasets download -d Cornell-University/arxiv"
      ]
    },
    {
      "cell_type": "code",
      "source": [
        "!chmod 600 /root/.kaggle/kaggle.json"
      ],
      "metadata": {
        "id": "1Gbrq_vFC_bH"
      },
      "execution_count": 6,
      "outputs": []
    },
    {
      "cell_type": "code",
      "execution_count": 7,
      "metadata": {
        "colab": {
          "base_uri": "https://localhost:8080/"
        },
        "id": "a1GuXFRsr5Qv",
        "outputId": "3475af25-a828-4f7d-992f-a39add724ec9"
      },
      "outputs": [
        {
          "output_type": "stream",
          "name": "stdout",
          "text": [
            "arxiv.zip  kaggle.json\tsample_data\n"
          ]
        }
      ],
      "source": [
        "!ls"
      ]
    },
    {
      "cell_type": "code",
      "execution_count": 8,
      "metadata": {
        "colab": {
          "base_uri": "https://localhost:8080/"
        },
        "id": "oCf2RQRBrWvm",
        "outputId": "08ec8bbc-fd1c-4b5b-f5f7-5a0848e40d61"
      },
      "outputs": [
        {
          "output_type": "stream",
          "name": "stdout",
          "text": [
            "Archive:  /content/arxiv.zip\n",
            "  inflating: arxiv-metadata-oai-snapshot.json  \n"
          ]
        }
      ],
      "source": [
        "!unzip /content/arxiv.zip"
      ]
    },
    {
      "cell_type": "code",
      "execution_count": 9,
      "metadata": {
        "id": "CQtJARuQZG2O"
      },
      "outputs": [],
      "source": [
        "import numpy as np\n",
        "import pandas as pd\n",
        "import os, json, gc, re, random\n",
        "from tqdm.notebook import tqdm\n",
        "from sklearn.model_selection import train_test_split"
      ]
    },
    {
      "cell_type": "code",
      "execution_count": 10,
      "metadata": {
        "id": "4TFYB8OSMQf0"
      },
      "outputs": [],
      "source": [
        "import tensorflow as tf\n",
        "import torch\n",
        "import transformers\n",
        "from transformers import AutoTokenizer, AutoModelForSequenceClassification, AdamW\n",
        "from keras.preprocessing.sequence import pad_sequences\n",
        "from sklearn.model_selection import train_test_split\n",
        "from torch.utils.data import TensorDataset, DataLoader, RandomSampler, SequentialSampler\n",
        "from transformers import get_linear_schedule_with_warmup\n",
        "import random\n",
        "from sklearn.preprocessing import LabelEncoder"
      ]
    },
    {
      "cell_type": "code",
      "execution_count": 11,
      "metadata": {
        "id": "XFGa4sPArZuK"
      },
      "outputs": [],
      "source": [
        "data_file = '/content/arxiv-metadata-oai-snapshot.json'"
      ]
    },
    {
      "cell_type": "code",
      "execution_count": 12,
      "metadata": {
        "id": "ZMH0zf32ZEQS"
      },
      "outputs": [],
      "source": [
        "def get_metadata():\n",
        "    with open(data_file, 'r') as f:\n",
        "        for line in f:\n",
        "            yield line"
      ]
    },
    {
      "cell_type": "markdown",
      "source": [
        "Listing all Categories in cat_map"
      ],
      "metadata": {
        "id": "Cu1VpULf0Seo"
      }
    },
    {
      "cell_type": "code",
      "execution_count": 13,
      "metadata": {
        "id": "x4OsAfX7ZIxt"
      },
      "outputs": [],
      "source": [
        "\n",
        "cat_map =      {'astro-ph': 'Astrophysics',\n",
        "                'astro-ph.CO': 'Cosmology and Nongalactic Astrophysics',\n",
        "                'astro-ph.EP': 'Earth and Planetary Astrophysics',\n",
        "                'astro-ph.GA': 'Astrophysics of Galaxies',\n",
        "                'astro-ph.HE': 'High Energy Astrophysical Phenomena',\n",
        "                'astro-ph.IM': 'Instrumentation and Methods for Astrophysics',\n",
        "                'astro-ph.SR': 'Solar and Stellar Astrophysics',\n",
        "                'cond-mat.dis-nn': 'Disordered Systems and Neural Networks',\n",
        "                'cond-mat.mes-hall': 'Mesoscale and Nanoscale Physics',\n",
        "                'cond-mat.mtrl-sci': 'Materials Science',\n",
        "                'cond-mat.other': 'Other Condensed Matter',\n",
        "                'cond-mat.quant-gas': 'Quantum Gases',\n",
        "                'cond-mat.soft': 'Soft Condensed Matter',\n",
        "                'cond-mat.stat-mech': 'Statistical Mechanics',\n",
        "                'cond-mat.str-el': 'Strongly Correlated Electrons',\n",
        "                'cond-mat.supr-con': 'Superconductivity',\n",
        "                'cs.AI': 'Artificial Intelligence',\n",
        "                'cs.AR': 'Hardware Architecture',\n",
        "                'cs.CC': 'Computational Complexity',\n",
        "                'cs.CE': 'Computational Engineering, Finance, and Science',\n",
        "                'cs.CG': 'Computational Geometry',\n",
        "                'cs.CL': 'Computation and Language',\n",
        "                'cs.CR': 'Cryptography and Security',\n",
        "                'cs.CV': 'Computer Vision and Pattern Recognition',\n",
        "                'cs.CY': 'Computers and Society',\n",
        "                'cs.DB': 'Databases',\n",
        "                'cs.DC': 'Distributed, Parallel, and Cluster Computing',\n",
        "                'cs.DL': 'Digital Libraries',\n",
        "                'cs.DM': 'Discrete Mathematics',\n",
        "                'cs.DS': 'Data Structures and Algorithms',\n",
        "                'cs.ET': 'Emerging Technologies',\n",
        "                'cs.FL': 'Formal Languages and Automata Theory',\n",
        "                'cs.GL': 'General Literature',\n",
        "                'cs.GR': 'Graphics',\n",
        "                'cs.GT': 'Computer Science and Game Theory',\n",
        "                'cs.HC': 'Human-Computer Interaction',\n",
        "                'cs.IR': 'Information Retrieval',\n",
        "                'cs.IT': 'Information Theory',\n",
        "                'cs.LG': 'Machine Learning',\n",
        "                'cs.LO': 'Logic in Computer Science',\n",
        "                'cs.MA': 'Multiagent Systems',\n",
        "                'cs.MM': 'Multimedia',\n",
        "                'cs.MS': 'Mathematical Software',\n",
        "                'cs.NA': 'Numerical Analysis',\n",
        "                'cs.NE': 'Neural and Evolutionary Computing',\n",
        "                'cs.NI': 'Networking and Internet Architecture',\n",
        "                'cs.OH': 'Other Computer Science',\n",
        "                'cs.OS': 'Operating Systems',\n",
        "                'cs.PF': 'Performance',\n",
        "                'cs.PL': 'Programming Languages',\n",
        "                'cs.RO': 'Robotics',\n",
        "                'cs.SC': 'Symbolic Computation',\n",
        "                'cs.SD': 'Sound',\n",
        "                'cs.SE': 'Software Engineering',\n",
        "                'cs.SI': 'Social and Information Networks',\n",
        "                'cs.SY': 'Systems and Control',\n",
        "                'econ.EM': 'Econometrics',\n",
        "                'eess.AS': 'Audio and Speech Processing',\n",
        "                'eess.IV': 'Image and Video Processing',\n",
        "                'eess.SP': 'Signal Processing',\n",
        "                'gr-qc': 'General Relativity and Quantum Cosmology',\n",
        "                'hep-ex': 'High Energy Physics - Experiment',\n",
        "                'hep-lat': 'High Energy Physics - Lattice',\n",
        "                'hep-ph': 'High Energy Physics - Phenomenology',\n",
        "                'hep-th': 'High Energy Physics - Theory',\n",
        "                'math.AC': 'Commutative Algebra',\n",
        "                'math.AG': 'Algebraic Geometry',\n",
        "                'math.AP': 'Analysis of PDEs',\n",
        "                'math.AT': 'Algebraic Topology',\n",
        "                'math.CA': 'Classical Analysis and ODEs',\n",
        "                'math.CO': 'Combinatorics',\n",
        "                'math.CT': 'Category Theory',\n",
        "                'math.CV': 'Complex Variables',\n",
        "                'math.DG': 'Differential Geometry',\n",
        "                'math.DS': 'Dynamical Systems',\n",
        "                'math.FA': 'Functional Analysis',\n",
        "                'math.GM': 'General Mathematics',\n",
        "                'math.GN': 'General Topology',\n",
        "                'math.GR': 'Group Theory',\n",
        "                'math.GT': 'Geometric Topology',\n",
        "                'math.HO': 'History and Overview',\n",
        "                'math.IT': 'Information Theory',\n",
        "                'math.KT': 'K-Theory and Homology',\n",
        "                'math.LO': 'Logic',\n",
        "                'math.MG': 'Metric Geometry',\n",
        "                'math.MP': 'Mathematical Physics',\n",
        "                'math.NA': 'Numerical Analysis',\n",
        "                'math.NT': 'Number Theory',\n",
        "                'math.OA': 'Operator Algebras',\n",
        "                'math.OC': 'Optimization and Control',\n",
        "                'math.PR': 'Probability',\n",
        "                'math.QA': 'Quantum Algebra',\n",
        "                'math.RA': 'Rings and Algebras',\n",
        "                'math.RT': 'Representation Theory',\n",
        "                'math.SG': 'Symplectic Geometry',\n",
        "                'math.SP': 'Spectral Theory',\n",
        "                'math.ST': 'Statistics Theory',\n",
        "                'math-ph': 'Mathematical Physics',\n",
        "                'nlin.AO': 'Adaptation and Self-Organizing Systems',\n",
        "                'nlin.CD': 'Chaotic Dynamics',\n",
        "                'nlin.CG': 'Cellular Automata and Lattice Gases',\n",
        "                'nlin.PS': 'Pattern Formation and Solitons',\n",
        "                'nlin.SI': 'Exactly Solvable and Integrable Systems',\n",
        "                'nucl-ex': 'Nuclear Experiment',\n",
        "                'nucl-th': 'Nuclear Theory',\n",
        "                'physics.acc-ph': 'Accelerator Physics',\n",
        "                'physics.ao-ph': 'Atmospheric and Oceanic Physics',\n",
        "                'physics.app-ph': 'Applied Physics',\n",
        "                'physics.atm-clus': 'Atomic and Molecular Clusters',\n",
        "                'physics.atom-ph': 'Atomic Physics',\n",
        "                'physics.bio-ph': 'Biological Physics',\n",
        "                'physics.chem-ph': 'Chemical Physics',\n",
        "                'physics.class-ph': 'Classical Physics',\n",
        "                'physics.comp-ph': 'Computational Physics',\n",
        "                'physics.data-an': 'Data Analysis, Statistics and Probability',\n",
        "                'physics.ed-ph': 'Physics Education',\n",
        "                'physics.flu-dyn': 'Fluid Dynamics',\n",
        "                'physics.gen-ph': 'General Physics',\n",
        "                'physics.geo-ph': 'Geophysics',\n",
        "                'physics.hist-ph': 'History and Philosophy of Physics',\n",
        "                'physics.ins-det': 'Instrumentation and Detectors',\n",
        "                'physics.med-ph': 'Medical Physics',\n",
        "                'physics.optics': 'Optics',\n",
        "                'physics.plasm-ph': 'Plasma Physics',\n",
        "                'physics.pop-ph': 'Popular Physics',\n",
        "                'physics.soc-ph': 'Physics and Society',\n",
        "                'physics.space-ph': 'Space Physics',\n",
        "                'q-bio.BM': 'Biomolecules',\n",
        "                'q-bio.CB': 'Cell Behavior',\n",
        "                'q-bio.GN': 'Genomics',\n",
        "                'q-bio.MN': 'Molecular Networks',\n",
        "                'q-bio.NC': 'Neurons and Cognition',\n",
        "                'q-bio.OT': 'Other Quantitative Biology',\n",
        "                'q-bio.PE': 'Populations and Evolution',\n",
        "                'q-bio.QM': 'Quantitative Methods',\n",
        "                'q-bio.SC': 'Subcellular Processes',\n",
        "                'q-bio.TO': 'Tissues and Organs',\n",
        "                'q-fin.CP': 'Computational Finance',\n",
        "                'q-fin.EC': 'Economics',\n",
        "                'q-fin.GN': 'General Finance',\n",
        "                'q-fin.MF': 'Mathematical Finance',\n",
        "                'q-fin.PM': 'Portfolio Management',\n",
        "                'q-fin.PR': 'Pricing of Securities',\n",
        "                'q-fin.RM': 'Risk Management',\n",
        "                'q-fin.ST': 'Statistical Finance',\n",
        "                'q-fin.TR': 'Trading and Market Microstructure',\n",
        "                'quant-ph': 'Quantum Physics',\n",
        "                'stat.AP': 'Applications',\n",
        "                'stat.CO': 'Computation',\n",
        "                'stat.ME': 'Methodology',\n",
        "                'stat.ML': 'Machine Learning',\n",
        "                'stat.OT': 'Other Statistics',\n",
        "                'stat.TH': 'Statistics Theory'}"
      ]
    },
    {
      "cell_type": "markdown",
      "source": [
        "Data Wrangling"
      ],
      "metadata": {
        "id": "FI4pcGj3CUHT"
      }
    },
    {
      "cell_type": "code",
      "execution_count": 14,
      "metadata": {
        "colab": {
          "base_uri": "https://localhost:8080/",
          "height": 67,
          "referenced_widgets": [
            "caeb89fa3c2d4557a9738711486ddc26",
            "0eb810240b074eaabc6f6d4d918797da",
            "3d26990c0bd8413c89f6023806ad7196",
            "2a3b25a3aa484d30a39e97c69c6cc774",
            "5fb2cf91bba043cab58c5f4c1863ad32",
            "2b1922ddfbf04281b69ac3677cadd9d0",
            "42be30ed02ef461c8b8cc7e522379210",
            "5b930a37204e4ed2bf482374590d0625",
            "16af6c05d860407e88d9cc778191211e",
            "bf54943db3c5459fbb1b2ac0f23385f7",
            "c4f0ff5cefde45e3847a0d8473aed4c6"
          ]
        },
        "id": "aUHSXAYXZTsq",
        "outputId": "272fba68-4bd2-4819-a17f-b0a8dc6cd0b4"
      },
      "outputs": [
        {
          "output_type": "display_data",
          "data": {
            "text/plain": [
              "0it [00:00, ?it/s]"
            ],
            "application/vnd.jupyter.widget-view+json": {
              "version_major": 2,
              "version_minor": 0,
              "model_id": "caeb89fa3c2d4557a9738711486ddc26"
            }
          },
          "metadata": {}
        },
        {
          "output_type": "execute_result",
          "data": {
            "text/plain": [
              "(102970, 102970, 102970)"
            ]
          },
          "metadata": {},
          "execution_count": 14
        }
      ],
      "source": [
        "titles = []\n",
        "abstracts = []\n",
        "categories = []\n",
        "\n",
        "# Consider all categories in the `category_map` to be used during training and prediction\n",
        "paper_categories = np.array(list(cat_map.keys())).flatten()\n",
        "\n",
        "metadata = get_metadata()\n",
        "for paper in tqdm(metadata):\n",
        "    paper_dict = json.loads(paper)\n",
        "    category = paper_dict.get('categories')\n",
        "    try:\n",
        "        try:\n",
        "            year = int(paper_dict.get('journal-ref')[-4:])    ### Example Format: \"Phys.Rev.D76:013009,2007\"\n",
        "        except:\n",
        "            year = int(paper_dict.get('journal-ref')[-5:-1])    ### Example Format: \"Phys.Rev.D76:013009,(2007)\"\n",
        "\n",
        "        if category in paper_categories and 2013<year<2022:\n",
        "            titles.append(paper_dict.get('title'))\n",
        "            abstracts.append(paper_dict.get('abstract'))\n",
        "            categories.append(paper_dict.get('categories'))\n",
        "    except:\n",
        "        pass \n",
        "\n",
        "len(titles), len(abstracts), len(categories)"
      ]
    },
    {
      "cell_type": "code",
      "execution_count": 15,
      "metadata": {
        "colab": {
          "base_uri": "https://localhost:8080/",
          "height": 206
        },
        "id": "M8lieqtYZbjq",
        "outputId": "796960ba-ff64-42e2-d022-830135014206"
      },
      "outputs": [
        {
          "output_type": "execute_result",
          "data": {
            "text/plain": [
              "                                               title  \\\n",
              "0  On the Cohomological Derivation of Yang-Mills ...   \n",
              "1  Bohmian Mechanics at Space-Time Singularities....   \n",
              "2  A Procedure to Solve the Eigen Solution to Dir...   \n",
              "3  What happens to geometric phase when spin-orbi...   \n",
              "4  Functions of State for Spinor Gas in General R...   \n",
              "\n",
              "                                            abstract      categories  \n",
              "0    We present a brief review of the cohomologic...  physics.gen-ph  \n",
              "1    We develop an extension of Bohmian mechanics...        quant-ph  \n",
              "2    In this paper, we provide a procedure to sol...  physics.gen-ph  \n",
              "3    Spin-orbit interaction lifts accidental band...  cond-mat.other  \n",
              "4    The energy momentum tensor of perfect fluid ...  physics.gen-ph  "
            ],
            "text/html": [
              "\n",
              "  <div id=\"df-1265b550-c8f4-4c86-ae8c-e590c7ed30c2\">\n",
              "    <div class=\"colab-df-container\">\n",
              "      <div>\n",
              "<style scoped>\n",
              "    .dataframe tbody tr th:only-of-type {\n",
              "        vertical-align: middle;\n",
              "    }\n",
              "\n",
              "    .dataframe tbody tr th {\n",
              "        vertical-align: top;\n",
              "    }\n",
              "\n",
              "    .dataframe thead th {\n",
              "        text-align: right;\n",
              "    }\n",
              "</style>\n",
              "<table border=\"1\" class=\"dataframe\">\n",
              "  <thead>\n",
              "    <tr style=\"text-align: right;\">\n",
              "      <th></th>\n",
              "      <th>title</th>\n",
              "      <th>abstract</th>\n",
              "      <th>categories</th>\n",
              "    </tr>\n",
              "  </thead>\n",
              "  <tbody>\n",
              "    <tr>\n",
              "      <th>0</th>\n",
              "      <td>On the Cohomological Derivation of Yang-Mills ...</td>\n",
              "      <td>We present a brief review of the cohomologic...</td>\n",
              "      <td>physics.gen-ph</td>\n",
              "    </tr>\n",
              "    <tr>\n",
              "      <th>1</th>\n",
              "      <td>Bohmian Mechanics at Space-Time Singularities....</td>\n",
              "      <td>We develop an extension of Bohmian mechanics...</td>\n",
              "      <td>quant-ph</td>\n",
              "    </tr>\n",
              "    <tr>\n",
              "      <th>2</th>\n",
              "      <td>A Procedure to Solve the Eigen Solution to Dir...</td>\n",
              "      <td>In this paper, we provide a procedure to sol...</td>\n",
              "      <td>physics.gen-ph</td>\n",
              "    </tr>\n",
              "    <tr>\n",
              "      <th>3</th>\n",
              "      <td>What happens to geometric phase when spin-orbi...</td>\n",
              "      <td>Spin-orbit interaction lifts accidental band...</td>\n",
              "      <td>cond-mat.other</td>\n",
              "    </tr>\n",
              "    <tr>\n",
              "      <th>4</th>\n",
              "      <td>Functions of State for Spinor Gas in General R...</td>\n",
              "      <td>The energy momentum tensor of perfect fluid ...</td>\n",
              "      <td>physics.gen-ph</td>\n",
              "    </tr>\n",
              "  </tbody>\n",
              "</table>\n",
              "</div>\n",
              "      <button class=\"colab-df-convert\" onclick=\"convertToInteractive('df-1265b550-c8f4-4c86-ae8c-e590c7ed30c2')\"\n",
              "              title=\"Convert this dataframe to an interactive table.\"\n",
              "              style=\"display:none;\">\n",
              "        \n",
              "  <svg xmlns=\"http://www.w3.org/2000/svg\" height=\"24px\"viewBox=\"0 0 24 24\"\n",
              "       width=\"24px\">\n",
              "    <path d=\"M0 0h24v24H0V0z\" fill=\"none\"/>\n",
              "    <path d=\"M18.56 5.44l.94 2.06.94-2.06 2.06-.94-2.06-.94-.94-2.06-.94 2.06-2.06.94zm-11 1L8.5 8.5l.94-2.06 2.06-.94-2.06-.94L8.5 2.5l-.94 2.06-2.06.94zm10 10l.94 2.06.94-2.06 2.06-.94-2.06-.94-.94-2.06-.94 2.06-2.06.94z\"/><path d=\"M17.41 7.96l-1.37-1.37c-.4-.4-.92-.59-1.43-.59-.52 0-1.04.2-1.43.59L10.3 9.45l-7.72 7.72c-.78.78-.78 2.05 0 2.83L4 21.41c.39.39.9.59 1.41.59.51 0 1.02-.2 1.41-.59l7.78-7.78 2.81-2.81c.8-.78.8-2.07 0-2.86zM5.41 20L4 18.59l7.72-7.72 1.47 1.35L5.41 20z\"/>\n",
              "  </svg>\n",
              "      </button>\n",
              "      \n",
              "  <style>\n",
              "    .colab-df-container {\n",
              "      display:flex;\n",
              "      flex-wrap:wrap;\n",
              "      gap: 12px;\n",
              "    }\n",
              "\n",
              "    .colab-df-convert {\n",
              "      background-color: #E8F0FE;\n",
              "      border: none;\n",
              "      border-radius: 50%;\n",
              "      cursor: pointer;\n",
              "      display: none;\n",
              "      fill: #1967D2;\n",
              "      height: 32px;\n",
              "      padding: 0 0 0 0;\n",
              "      width: 32px;\n",
              "    }\n",
              "\n",
              "    .colab-df-convert:hover {\n",
              "      background-color: #E2EBFA;\n",
              "      box-shadow: 0px 1px 2px rgba(60, 64, 67, 0.3), 0px 1px 3px 1px rgba(60, 64, 67, 0.15);\n",
              "      fill: #174EA6;\n",
              "    }\n",
              "\n",
              "    [theme=dark] .colab-df-convert {\n",
              "      background-color: #3B4455;\n",
              "      fill: #D2E3FC;\n",
              "    }\n",
              "\n",
              "    [theme=dark] .colab-df-convert:hover {\n",
              "      background-color: #434B5C;\n",
              "      box-shadow: 0px 1px 3px 1px rgba(0, 0, 0, 0.15);\n",
              "      filter: drop-shadow(0px 1px 2px rgba(0, 0, 0, 0.3));\n",
              "      fill: #FFFFFF;\n",
              "    }\n",
              "  </style>\n",
              "\n",
              "      <script>\n",
              "        const buttonEl =\n",
              "          document.querySelector('#df-1265b550-c8f4-4c86-ae8c-e590c7ed30c2 button.colab-df-convert');\n",
              "        buttonEl.style.display =\n",
              "          google.colab.kernel.accessAllowed ? 'block' : 'none';\n",
              "\n",
              "        async function convertToInteractive(key) {\n",
              "          const element = document.querySelector('#df-1265b550-c8f4-4c86-ae8c-e590c7ed30c2');\n",
              "          const dataTable =\n",
              "            await google.colab.kernel.invokeFunction('convertToInteractive',\n",
              "                                                     [key], {});\n",
              "          if (!dataTable) return;\n",
              "\n",
              "          const docLinkHtml = 'Like what you see? Visit the ' +\n",
              "            '<a target=\"_blank\" href=https://colab.research.google.com/notebooks/data_table.ipynb>data table notebook</a>'\n",
              "            + ' to learn more about interactive tables.';\n",
              "          element.innerHTML = '';\n",
              "          dataTable['output_type'] = 'display_data';\n",
              "          await google.colab.output.renderOutput(dataTable, element);\n",
              "          const docLink = document.createElement('div');\n",
              "          docLink.innerHTML = docLinkHtml;\n",
              "          element.appendChild(docLink);\n",
              "        }\n",
              "      </script>\n",
              "    </div>\n",
              "  </div>\n",
              "  "
            ]
          },
          "metadata": {},
          "execution_count": 15
        }
      ],
      "source": [
        "papers = pd.DataFrame({\n",
        "    'title': titles,\n",
        "    'abstract': abstracts,\n",
        "    'categories': categories\n",
        "})\n",
        "papers.head(5)"
      ]
    },
    {
      "cell_type": "code",
      "execution_count": 16,
      "metadata": {
        "id": "tpOiGvtSaRH7"
      },
      "outputs": [],
      "source": [
        "papers['abstract'] = papers['abstract'].apply(lambda x: x.replace(\"\\n\",\"\"))\n",
        "papers['abstract'] = papers['abstract'].apply(lambda x: x.strip())\n",
        "papers['text'] = papers['title'] + '. ' + papers['abstract']"
      ]
    },
    {
      "cell_type": "code",
      "execution_count": 17,
      "metadata": {
        "colab": {
          "base_uri": "https://localhost:8080/",
          "height": 250
        },
        "id": "BAJEA-Jv3b8D",
        "outputId": "6fb77144-d29d-44dd-e061-8a57640729a8"
      },
      "outputs": [
        {
          "output_type": "execute_result",
          "data": {
            "text/plain": [
              "                                               title  \\\n",
              "0  On the Cohomological Derivation of Yang-Mills ...   \n",
              "1  Bohmian Mechanics at Space-Time Singularities....   \n",
              "2  A Procedure to Solve the Eigen Solution to Dir...   \n",
              "3  What happens to geometric phase when spin-orbi...   \n",
              "4  Functions of State for Spinor Gas in General R...   \n",
              "\n",
              "                                            abstract      categories  \\\n",
              "0  We present a brief review of the cohomological...  physics.gen-ph   \n",
              "1  We develop an extension of Bohmian mechanics t...        quant-ph   \n",
              "2  In this paper, we provide a procedure to solve...  physics.gen-ph   \n",
              "3  Spin-orbit interaction lifts accidental band d...  cond-mat.other   \n",
              "4  The energy momentum tensor of perfect fluid is...  physics.gen-ph   \n",
              "\n",
              "                                                text  \n",
              "0  On the Cohomological Derivation of Yang-Mills ...  \n",
              "1  Bohmian Mechanics at Space-Time Singularities....  \n",
              "2  A Procedure to Solve the Eigen Solution to Dir...  \n",
              "3  What happens to geometric phase when spin-orbi...  \n",
              "4  Functions of State for Spinor Gas in General R...  "
            ],
            "text/html": [
              "\n",
              "  <div id=\"df-5204a9e0-3950-48f4-82de-595b9b2ca2b2\">\n",
              "    <div class=\"colab-df-container\">\n",
              "      <div>\n",
              "<style scoped>\n",
              "    .dataframe tbody tr th:only-of-type {\n",
              "        vertical-align: middle;\n",
              "    }\n",
              "\n",
              "    .dataframe tbody tr th {\n",
              "        vertical-align: top;\n",
              "    }\n",
              "\n",
              "    .dataframe thead th {\n",
              "        text-align: right;\n",
              "    }\n",
              "</style>\n",
              "<table border=\"1\" class=\"dataframe\">\n",
              "  <thead>\n",
              "    <tr style=\"text-align: right;\">\n",
              "      <th></th>\n",
              "      <th>title</th>\n",
              "      <th>abstract</th>\n",
              "      <th>categories</th>\n",
              "      <th>text</th>\n",
              "    </tr>\n",
              "  </thead>\n",
              "  <tbody>\n",
              "    <tr>\n",
              "      <th>0</th>\n",
              "      <td>On the Cohomological Derivation of Yang-Mills ...</td>\n",
              "      <td>We present a brief review of the cohomological...</td>\n",
              "      <td>physics.gen-ph</td>\n",
              "      <td>On the Cohomological Derivation of Yang-Mills ...</td>\n",
              "    </tr>\n",
              "    <tr>\n",
              "      <th>1</th>\n",
              "      <td>Bohmian Mechanics at Space-Time Singularities....</td>\n",
              "      <td>We develop an extension of Bohmian mechanics t...</td>\n",
              "      <td>quant-ph</td>\n",
              "      <td>Bohmian Mechanics at Space-Time Singularities....</td>\n",
              "    </tr>\n",
              "    <tr>\n",
              "      <th>2</th>\n",
              "      <td>A Procedure to Solve the Eigen Solution to Dir...</td>\n",
              "      <td>In this paper, we provide a procedure to solve...</td>\n",
              "      <td>physics.gen-ph</td>\n",
              "      <td>A Procedure to Solve the Eigen Solution to Dir...</td>\n",
              "    </tr>\n",
              "    <tr>\n",
              "      <th>3</th>\n",
              "      <td>What happens to geometric phase when spin-orbi...</td>\n",
              "      <td>Spin-orbit interaction lifts accidental band d...</td>\n",
              "      <td>cond-mat.other</td>\n",
              "      <td>What happens to geometric phase when spin-orbi...</td>\n",
              "    </tr>\n",
              "    <tr>\n",
              "      <th>4</th>\n",
              "      <td>Functions of State for Spinor Gas in General R...</td>\n",
              "      <td>The energy momentum tensor of perfect fluid is...</td>\n",
              "      <td>physics.gen-ph</td>\n",
              "      <td>Functions of State for Spinor Gas in General R...</td>\n",
              "    </tr>\n",
              "  </tbody>\n",
              "</table>\n",
              "</div>\n",
              "      <button class=\"colab-df-convert\" onclick=\"convertToInteractive('df-5204a9e0-3950-48f4-82de-595b9b2ca2b2')\"\n",
              "              title=\"Convert this dataframe to an interactive table.\"\n",
              "              style=\"display:none;\">\n",
              "        \n",
              "  <svg xmlns=\"http://www.w3.org/2000/svg\" height=\"24px\"viewBox=\"0 0 24 24\"\n",
              "       width=\"24px\">\n",
              "    <path d=\"M0 0h24v24H0V0z\" fill=\"none\"/>\n",
              "    <path d=\"M18.56 5.44l.94 2.06.94-2.06 2.06-.94-2.06-.94-.94-2.06-.94 2.06-2.06.94zm-11 1L8.5 8.5l.94-2.06 2.06-.94-2.06-.94L8.5 2.5l-.94 2.06-2.06.94zm10 10l.94 2.06.94-2.06 2.06-.94-2.06-.94-.94-2.06-.94 2.06-2.06.94z\"/><path d=\"M17.41 7.96l-1.37-1.37c-.4-.4-.92-.59-1.43-.59-.52 0-1.04.2-1.43.59L10.3 9.45l-7.72 7.72c-.78.78-.78 2.05 0 2.83L4 21.41c.39.39.9.59 1.41.59.51 0 1.02-.2 1.41-.59l7.78-7.78 2.81-2.81c.8-.78.8-2.07 0-2.86zM5.41 20L4 18.59l7.72-7.72 1.47 1.35L5.41 20z\"/>\n",
              "  </svg>\n",
              "      </button>\n",
              "      \n",
              "  <style>\n",
              "    .colab-df-container {\n",
              "      display:flex;\n",
              "      flex-wrap:wrap;\n",
              "      gap: 12px;\n",
              "    }\n",
              "\n",
              "    .colab-df-convert {\n",
              "      background-color: #E8F0FE;\n",
              "      border: none;\n",
              "      border-radius: 50%;\n",
              "      cursor: pointer;\n",
              "      display: none;\n",
              "      fill: #1967D2;\n",
              "      height: 32px;\n",
              "      padding: 0 0 0 0;\n",
              "      width: 32px;\n",
              "    }\n",
              "\n",
              "    .colab-df-convert:hover {\n",
              "      background-color: #E2EBFA;\n",
              "      box-shadow: 0px 1px 2px rgba(60, 64, 67, 0.3), 0px 1px 3px 1px rgba(60, 64, 67, 0.15);\n",
              "      fill: #174EA6;\n",
              "    }\n",
              "\n",
              "    [theme=dark] .colab-df-convert {\n",
              "      background-color: #3B4455;\n",
              "      fill: #D2E3FC;\n",
              "    }\n",
              "\n",
              "    [theme=dark] .colab-df-convert:hover {\n",
              "      background-color: #434B5C;\n",
              "      box-shadow: 0px 1px 3px 1px rgba(0, 0, 0, 0.15);\n",
              "      filter: drop-shadow(0px 1px 2px rgba(0, 0, 0, 0.3));\n",
              "      fill: #FFFFFF;\n",
              "    }\n",
              "  </style>\n",
              "\n",
              "      <script>\n",
              "        const buttonEl =\n",
              "          document.querySelector('#df-5204a9e0-3950-48f4-82de-595b9b2ca2b2 button.colab-df-convert');\n",
              "        buttonEl.style.display =\n",
              "          google.colab.kernel.accessAllowed ? 'block' : 'none';\n",
              "\n",
              "        async function convertToInteractive(key) {\n",
              "          const element = document.querySelector('#df-5204a9e0-3950-48f4-82de-595b9b2ca2b2');\n",
              "          const dataTable =\n",
              "            await google.colab.kernel.invokeFunction('convertToInteractive',\n",
              "                                                     [key], {});\n",
              "          if (!dataTable) return;\n",
              "\n",
              "          const docLinkHtml = 'Like what you see? Visit the ' +\n",
              "            '<a target=\"_blank\" href=https://colab.research.google.com/notebooks/data_table.ipynb>data table notebook</a>'\n",
              "            + ' to learn more about interactive tables.';\n",
              "          element.innerHTML = '';\n",
              "          dataTable['output_type'] = 'display_data';\n",
              "          await google.colab.output.renderOutput(dataTable, element);\n",
              "          const docLink = document.createElement('div');\n",
              "          docLink.innerHTML = docLinkHtml;\n",
              "          element.appendChild(docLink);\n",
              "        }\n",
              "      </script>\n",
              "    </div>\n",
              "  </div>\n",
              "  "
            ]
          },
          "metadata": {},
          "execution_count": 17
        }
      ],
      "source": [
        "papers.head(5)"
      ]
    },
    {
      "cell_type": "code",
      "execution_count": 18,
      "metadata": {
        "colab": {
          "base_uri": "https://localhost:8080/",
          "height": 423
        },
        "id": "6hswJy3q3tiw",
        "outputId": "271a006a-c9ff-4848-a7c0-58f2f5d416aa"
      },
      "outputs": [
        {
          "output_type": "execute_result",
          "data": {
            "text/plain": [
              "                                                     text      categories\n",
              "0       On the Cohomological Derivation of Yang-Mills ...  physics.gen-ph\n",
              "1       Bohmian Mechanics at Space-Time Singularities....        quant-ph\n",
              "2       A Procedure to Solve the Eigen Solution to Dir...  physics.gen-ph\n",
              "3       What happens to geometric phase when spin-orbi...  cond-mat.other\n",
              "4       Functions of State for Spinor Gas in General R...  physics.gen-ph\n",
              "...                                                   ...             ...\n",
              "102965  Complementarity and the nature of uncertainty ...        quant-ph\n",
              "102966  Alternative Derivation of the Hu-Paz-Zhang Mas...        quant-ph\n",
              "102967  Guiding Neutral Atoms with a Wire. We demonstr...        quant-ph\n",
              "102968  Limits for entanglement measures. We show that...        quant-ph\n",
              "102969  Large Numbers, the Chinese Remainder Theorem, ...        quant-ph\n",
              "\n",
              "[102970 rows x 2 columns]"
            ],
            "text/html": [
              "\n",
              "  <div id=\"df-2394b4d8-465a-4747-8305-cfdaf1036e1e\">\n",
              "    <div class=\"colab-df-container\">\n",
              "      <div>\n",
              "<style scoped>\n",
              "    .dataframe tbody tr th:only-of-type {\n",
              "        vertical-align: middle;\n",
              "    }\n",
              "\n",
              "    .dataframe tbody tr th {\n",
              "        vertical-align: top;\n",
              "    }\n",
              "\n",
              "    .dataframe thead th {\n",
              "        text-align: right;\n",
              "    }\n",
              "</style>\n",
              "<table border=\"1\" class=\"dataframe\">\n",
              "  <thead>\n",
              "    <tr style=\"text-align: right;\">\n",
              "      <th></th>\n",
              "      <th>text</th>\n",
              "      <th>categories</th>\n",
              "    </tr>\n",
              "  </thead>\n",
              "  <tbody>\n",
              "    <tr>\n",
              "      <th>0</th>\n",
              "      <td>On the Cohomological Derivation of Yang-Mills ...</td>\n",
              "      <td>physics.gen-ph</td>\n",
              "    </tr>\n",
              "    <tr>\n",
              "      <th>1</th>\n",
              "      <td>Bohmian Mechanics at Space-Time Singularities....</td>\n",
              "      <td>quant-ph</td>\n",
              "    </tr>\n",
              "    <tr>\n",
              "      <th>2</th>\n",
              "      <td>A Procedure to Solve the Eigen Solution to Dir...</td>\n",
              "      <td>physics.gen-ph</td>\n",
              "    </tr>\n",
              "    <tr>\n",
              "      <th>3</th>\n",
              "      <td>What happens to geometric phase when spin-orbi...</td>\n",
              "      <td>cond-mat.other</td>\n",
              "    </tr>\n",
              "    <tr>\n",
              "      <th>4</th>\n",
              "      <td>Functions of State for Spinor Gas in General R...</td>\n",
              "      <td>physics.gen-ph</td>\n",
              "    </tr>\n",
              "    <tr>\n",
              "      <th>...</th>\n",
              "      <td>...</td>\n",
              "      <td>...</td>\n",
              "    </tr>\n",
              "    <tr>\n",
              "      <th>102965</th>\n",
              "      <td>Complementarity and the nature of uncertainty ...</td>\n",
              "      <td>quant-ph</td>\n",
              "    </tr>\n",
              "    <tr>\n",
              "      <th>102966</th>\n",
              "      <td>Alternative Derivation of the Hu-Paz-Zhang Mas...</td>\n",
              "      <td>quant-ph</td>\n",
              "    </tr>\n",
              "    <tr>\n",
              "      <th>102967</th>\n",
              "      <td>Guiding Neutral Atoms with a Wire. We demonstr...</td>\n",
              "      <td>quant-ph</td>\n",
              "    </tr>\n",
              "    <tr>\n",
              "      <th>102968</th>\n",
              "      <td>Limits for entanglement measures. We show that...</td>\n",
              "      <td>quant-ph</td>\n",
              "    </tr>\n",
              "    <tr>\n",
              "      <th>102969</th>\n",
              "      <td>Large Numbers, the Chinese Remainder Theorem, ...</td>\n",
              "      <td>quant-ph</td>\n",
              "    </tr>\n",
              "  </tbody>\n",
              "</table>\n",
              "<p>102970 rows × 2 columns</p>\n",
              "</div>\n",
              "      <button class=\"colab-df-convert\" onclick=\"convertToInteractive('df-2394b4d8-465a-4747-8305-cfdaf1036e1e')\"\n",
              "              title=\"Convert this dataframe to an interactive table.\"\n",
              "              style=\"display:none;\">\n",
              "        \n",
              "  <svg xmlns=\"http://www.w3.org/2000/svg\" height=\"24px\"viewBox=\"0 0 24 24\"\n",
              "       width=\"24px\">\n",
              "    <path d=\"M0 0h24v24H0V0z\" fill=\"none\"/>\n",
              "    <path d=\"M18.56 5.44l.94 2.06.94-2.06 2.06-.94-2.06-.94-.94-2.06-.94 2.06-2.06.94zm-11 1L8.5 8.5l.94-2.06 2.06-.94-2.06-.94L8.5 2.5l-.94 2.06-2.06.94zm10 10l.94 2.06.94-2.06 2.06-.94-2.06-.94-.94-2.06-.94 2.06-2.06.94z\"/><path d=\"M17.41 7.96l-1.37-1.37c-.4-.4-.92-.59-1.43-.59-.52 0-1.04.2-1.43.59L10.3 9.45l-7.72 7.72c-.78.78-.78 2.05 0 2.83L4 21.41c.39.39.9.59 1.41.59.51 0 1.02-.2 1.41-.59l7.78-7.78 2.81-2.81c.8-.78.8-2.07 0-2.86zM5.41 20L4 18.59l7.72-7.72 1.47 1.35L5.41 20z\"/>\n",
              "  </svg>\n",
              "      </button>\n",
              "      \n",
              "  <style>\n",
              "    .colab-df-container {\n",
              "      display:flex;\n",
              "      flex-wrap:wrap;\n",
              "      gap: 12px;\n",
              "    }\n",
              "\n",
              "    .colab-df-convert {\n",
              "      background-color: #E8F0FE;\n",
              "      border: none;\n",
              "      border-radius: 50%;\n",
              "      cursor: pointer;\n",
              "      display: none;\n",
              "      fill: #1967D2;\n",
              "      height: 32px;\n",
              "      padding: 0 0 0 0;\n",
              "      width: 32px;\n",
              "    }\n",
              "\n",
              "    .colab-df-convert:hover {\n",
              "      background-color: #E2EBFA;\n",
              "      box-shadow: 0px 1px 2px rgba(60, 64, 67, 0.3), 0px 1px 3px 1px rgba(60, 64, 67, 0.15);\n",
              "      fill: #174EA6;\n",
              "    }\n",
              "\n",
              "    [theme=dark] .colab-df-convert {\n",
              "      background-color: #3B4455;\n",
              "      fill: #D2E3FC;\n",
              "    }\n",
              "\n",
              "    [theme=dark] .colab-df-convert:hover {\n",
              "      background-color: #434B5C;\n",
              "      box-shadow: 0px 1px 3px 1px rgba(0, 0, 0, 0.15);\n",
              "      filter: drop-shadow(0px 1px 2px rgba(0, 0, 0, 0.3));\n",
              "      fill: #FFFFFF;\n",
              "    }\n",
              "  </style>\n",
              "\n",
              "      <script>\n",
              "        const buttonEl =\n",
              "          document.querySelector('#df-2394b4d8-465a-4747-8305-cfdaf1036e1e button.colab-df-convert');\n",
              "        buttonEl.style.display =\n",
              "          google.colab.kernel.accessAllowed ? 'block' : 'none';\n",
              "\n",
              "        async function convertToInteractive(key) {\n",
              "          const element = document.querySelector('#df-2394b4d8-465a-4747-8305-cfdaf1036e1e');\n",
              "          const dataTable =\n",
              "            await google.colab.kernel.invokeFunction('convertToInteractive',\n",
              "                                                     [key], {});\n",
              "          if (!dataTable) return;\n",
              "\n",
              "          const docLinkHtml = 'Like what you see? Visit the ' +\n",
              "            '<a target=\"_blank\" href=https://colab.research.google.com/notebooks/data_table.ipynb>data table notebook</a>'\n",
              "            + ' to learn more about interactive tables.';\n",
              "          element.innerHTML = '';\n",
              "          dataTable['output_type'] = 'display_data';\n",
              "          await google.colab.output.renderOutput(dataTable, element);\n",
              "          const docLink = document.createElement('div');\n",
              "          docLink.innerHTML = docLinkHtml;\n",
              "          element.appendChild(docLink);\n",
              "        }\n",
              "      </script>\n",
              "    </div>\n",
              "  </div>\n",
              "  "
            ]
          },
          "metadata": {},
          "execution_count": 18
        }
      ],
      "source": [
        "df = papers[[\"text\",\"categories\"]].copy()\n",
        "df"
      ]
    },
    {
      "cell_type": "code",
      "execution_count": 19,
      "metadata": {
        "colab": {
          "base_uri": "https://localhost:8080/"
        },
        "id": "AvMMDpuvO3oU",
        "outputId": "d6831c9f-fb20-4546-c9fc-716dd9bcb4f9"
      },
      "outputs": [
        {
          "output_type": "execute_result",
          "data": {
            "text/plain": [
              "LabelEncoder()"
            ]
          },
          "metadata": {},
          "execution_count": 19
        }
      ],
      "source": [
        "label_encoder = LabelEncoder()\n",
        "label_encoder.fit(df['categories'])"
      ]
    },
    {
      "cell_type": "code",
      "execution_count": 20,
      "metadata": {
        "colab": {
          "base_uri": "https://localhost:8080/",
          "height": 423
        },
        "id": "BFQj_RTq4Tit",
        "outputId": "dff58b3d-ac19-42a8-dcdb-605ad585aa47"
      },
      "outputs": [
        {
          "output_type": "execute_result",
          "data": {
            "text/plain": [
              "                                                     text      categories  \\\n",
              "0       On the Cohomological Derivation of Yang-Mills ...  physics.gen-ph   \n",
              "1       Bohmian Mechanics at Space-Time Singularities....        quant-ph   \n",
              "2       A Procedure to Solve the Eigen Solution to Dir...  physics.gen-ph   \n",
              "3       What happens to geometric phase when spin-orbi...  cond-mat.other   \n",
              "4       Functions of State for Spinor Gas in General R...  physics.gen-ph   \n",
              "...                                                   ...             ...   \n",
              "102965  Complementarity and the nature of uncertainty ...        quant-ph   \n",
              "102966  Alternative Derivation of the Hu-Paz-Zhang Mas...        quant-ph   \n",
              "102967  Guiding Neutral Atoms with a Wire. We demonstr...        quant-ph   \n",
              "102968  Limits for entanglement measures. We show that...        quant-ph   \n",
              "102969  Large Numbers, the Chinese Remainder Theorem, ...        quant-ph   \n",
              "\n",
              "        categories_encoded  \n",
              "0                      112  \n",
              "1                      141  \n",
              "2                      112  \n",
              "3                       10  \n",
              "4                      112  \n",
              "...                    ...  \n",
              "102965                 141  \n",
              "102966                 141  \n",
              "102967                 141  \n",
              "102968                 141  \n",
              "102969                 141  \n",
              "\n",
              "[102970 rows x 3 columns]"
            ],
            "text/html": [
              "\n",
              "  <div id=\"df-73f24019-706a-4f94-8e84-bab1bb745335\">\n",
              "    <div class=\"colab-df-container\">\n",
              "      <div>\n",
              "<style scoped>\n",
              "    .dataframe tbody tr th:only-of-type {\n",
              "        vertical-align: middle;\n",
              "    }\n",
              "\n",
              "    .dataframe tbody tr th {\n",
              "        vertical-align: top;\n",
              "    }\n",
              "\n",
              "    .dataframe thead th {\n",
              "        text-align: right;\n",
              "    }\n",
              "</style>\n",
              "<table border=\"1\" class=\"dataframe\">\n",
              "  <thead>\n",
              "    <tr style=\"text-align: right;\">\n",
              "      <th></th>\n",
              "      <th>text</th>\n",
              "      <th>categories</th>\n",
              "      <th>categories_encoded</th>\n",
              "    </tr>\n",
              "  </thead>\n",
              "  <tbody>\n",
              "    <tr>\n",
              "      <th>0</th>\n",
              "      <td>On the Cohomological Derivation of Yang-Mills ...</td>\n",
              "      <td>physics.gen-ph</td>\n",
              "      <td>112</td>\n",
              "    </tr>\n",
              "    <tr>\n",
              "      <th>1</th>\n",
              "      <td>Bohmian Mechanics at Space-Time Singularities....</td>\n",
              "      <td>quant-ph</td>\n",
              "      <td>141</td>\n",
              "    </tr>\n",
              "    <tr>\n",
              "      <th>2</th>\n",
              "      <td>A Procedure to Solve the Eigen Solution to Dir...</td>\n",
              "      <td>physics.gen-ph</td>\n",
              "      <td>112</td>\n",
              "    </tr>\n",
              "    <tr>\n",
              "      <th>3</th>\n",
              "      <td>What happens to geometric phase when spin-orbi...</td>\n",
              "      <td>cond-mat.other</td>\n",
              "      <td>10</td>\n",
              "    </tr>\n",
              "    <tr>\n",
              "      <th>4</th>\n",
              "      <td>Functions of State for Spinor Gas in General R...</td>\n",
              "      <td>physics.gen-ph</td>\n",
              "      <td>112</td>\n",
              "    </tr>\n",
              "    <tr>\n",
              "      <th>...</th>\n",
              "      <td>...</td>\n",
              "      <td>...</td>\n",
              "      <td>...</td>\n",
              "    </tr>\n",
              "    <tr>\n",
              "      <th>102965</th>\n",
              "      <td>Complementarity and the nature of uncertainty ...</td>\n",
              "      <td>quant-ph</td>\n",
              "      <td>141</td>\n",
              "    </tr>\n",
              "    <tr>\n",
              "      <th>102966</th>\n",
              "      <td>Alternative Derivation of the Hu-Paz-Zhang Mas...</td>\n",
              "      <td>quant-ph</td>\n",
              "      <td>141</td>\n",
              "    </tr>\n",
              "    <tr>\n",
              "      <th>102967</th>\n",
              "      <td>Guiding Neutral Atoms with a Wire. We demonstr...</td>\n",
              "      <td>quant-ph</td>\n",
              "      <td>141</td>\n",
              "    </tr>\n",
              "    <tr>\n",
              "      <th>102968</th>\n",
              "      <td>Limits for entanglement measures. We show that...</td>\n",
              "      <td>quant-ph</td>\n",
              "      <td>141</td>\n",
              "    </tr>\n",
              "    <tr>\n",
              "      <th>102969</th>\n",
              "      <td>Large Numbers, the Chinese Remainder Theorem, ...</td>\n",
              "      <td>quant-ph</td>\n",
              "      <td>141</td>\n",
              "    </tr>\n",
              "  </tbody>\n",
              "</table>\n",
              "<p>102970 rows × 3 columns</p>\n",
              "</div>\n",
              "      <button class=\"colab-df-convert\" onclick=\"convertToInteractive('df-73f24019-706a-4f94-8e84-bab1bb745335')\"\n",
              "              title=\"Convert this dataframe to an interactive table.\"\n",
              "              style=\"display:none;\">\n",
              "        \n",
              "  <svg xmlns=\"http://www.w3.org/2000/svg\" height=\"24px\"viewBox=\"0 0 24 24\"\n",
              "       width=\"24px\">\n",
              "    <path d=\"M0 0h24v24H0V0z\" fill=\"none\"/>\n",
              "    <path d=\"M18.56 5.44l.94 2.06.94-2.06 2.06-.94-2.06-.94-.94-2.06-.94 2.06-2.06.94zm-11 1L8.5 8.5l.94-2.06 2.06-.94-2.06-.94L8.5 2.5l-.94 2.06-2.06.94zm10 10l.94 2.06.94-2.06 2.06-.94-2.06-.94-.94-2.06-.94 2.06-2.06.94z\"/><path d=\"M17.41 7.96l-1.37-1.37c-.4-.4-.92-.59-1.43-.59-.52 0-1.04.2-1.43.59L10.3 9.45l-7.72 7.72c-.78.78-.78 2.05 0 2.83L4 21.41c.39.39.9.59 1.41.59.51 0 1.02-.2 1.41-.59l7.78-7.78 2.81-2.81c.8-.78.8-2.07 0-2.86zM5.41 20L4 18.59l7.72-7.72 1.47 1.35L5.41 20z\"/>\n",
              "  </svg>\n",
              "      </button>\n",
              "      \n",
              "  <style>\n",
              "    .colab-df-container {\n",
              "      display:flex;\n",
              "      flex-wrap:wrap;\n",
              "      gap: 12px;\n",
              "    }\n",
              "\n",
              "    .colab-df-convert {\n",
              "      background-color: #E8F0FE;\n",
              "      border: none;\n",
              "      border-radius: 50%;\n",
              "      cursor: pointer;\n",
              "      display: none;\n",
              "      fill: #1967D2;\n",
              "      height: 32px;\n",
              "      padding: 0 0 0 0;\n",
              "      width: 32px;\n",
              "    }\n",
              "\n",
              "    .colab-df-convert:hover {\n",
              "      background-color: #E2EBFA;\n",
              "      box-shadow: 0px 1px 2px rgba(60, 64, 67, 0.3), 0px 1px 3px 1px rgba(60, 64, 67, 0.15);\n",
              "      fill: #174EA6;\n",
              "    }\n",
              "\n",
              "    [theme=dark] .colab-df-convert {\n",
              "      background-color: #3B4455;\n",
              "      fill: #D2E3FC;\n",
              "    }\n",
              "\n",
              "    [theme=dark] .colab-df-convert:hover {\n",
              "      background-color: #434B5C;\n",
              "      box-shadow: 0px 1px 3px 1px rgba(0, 0, 0, 0.15);\n",
              "      filter: drop-shadow(0px 1px 2px rgba(0, 0, 0, 0.3));\n",
              "      fill: #FFFFFF;\n",
              "    }\n",
              "  </style>\n",
              "\n",
              "      <script>\n",
              "        const buttonEl =\n",
              "          document.querySelector('#df-73f24019-706a-4f94-8e84-bab1bb745335 button.colab-df-convert');\n",
              "        buttonEl.style.display =\n",
              "          google.colab.kernel.accessAllowed ? 'block' : 'none';\n",
              "\n",
              "        async function convertToInteractive(key) {\n",
              "          const element = document.querySelector('#df-73f24019-706a-4f94-8e84-bab1bb745335');\n",
              "          const dataTable =\n",
              "            await google.colab.kernel.invokeFunction('convertToInteractive',\n",
              "                                                     [key], {});\n",
              "          if (!dataTable) return;\n",
              "\n",
              "          const docLinkHtml = 'Like what you see? Visit the ' +\n",
              "            '<a target=\"_blank\" href=https://colab.research.google.com/notebooks/data_table.ipynb>data table notebook</a>'\n",
              "            + ' to learn more about interactive tables.';\n",
              "          element.innerHTML = '';\n",
              "          dataTable['output_type'] = 'display_data';\n",
              "          await google.colab.output.renderOutput(dataTable, element);\n",
              "          const docLink = document.createElement('div');\n",
              "          docLink.innerHTML = docLinkHtml;\n",
              "          element.appendChild(docLink);\n",
              "        }\n",
              "      </script>\n",
              "    </div>\n",
              "  </div>\n",
              "  "
            ]
          },
          "metadata": {},
          "execution_count": 20
        }
      ],
      "source": [
        "df['categories_encoded'] = df['categories'].apply(lambda x: label_encoder.transform([x])[0])\n",
        "df"
      ]
    },
    {
      "cell_type": "markdown",
      "source": [
        "Train-Test Split"
      ],
      "metadata": {
        "id": "c0fFS6z0CZAM"
      }
    },
    {
      "cell_type": "code",
      "source": [
        "x_train, x_test, y_train, y_test = train_test_split(df['text'], df['categories_encoded'], random_state=2018, test_size=0.3)"
      ],
      "metadata": {
        "id": "zbaORDSVrCDW"
      },
      "execution_count": 21,
      "outputs": []
    },
    {
      "cell_type": "code",
      "metadata": {
        "id": "0fH84r75SbxV"
      },
      "source": [
        "embed_size = 300 # how big is each word vector\n",
        "max_features = 120000 # how many unique words to use (i.e num rows in embedding vector)\n",
        "maxlen = 750 # max number of words in a question to use\n",
        "batch_size = 512 # how many samples to process at once\n",
        "n_epochs = 5 # how many times to iterate over all samples\n",
        "n_splits = 5 # Number of K-fold Splits\n",
        "SEED = 10\n",
        "debug = 0"
      ],
      "execution_count": 22,
      "outputs": []
    },
    {
      "cell_type": "code",
      "source": [
        "from sklearn import model_selection\n",
        "from keras.preprocessing.text import Tokenizer\n",
        "from keras.preprocessing.sequence import pad_sequences"
      ],
      "metadata": {
        "id": "jnUjyLW8snc9"
      },
      "execution_count": 23,
      "outputs": []
    },
    {
      "cell_type": "markdown",
      "source": [
        "Tokenization"
      ],
      "metadata": {
        "id": "wQx2OMxECcDs"
      }
    },
    {
      "cell_type": "code",
      "metadata": {
        "id": "B8i6JkHgfhEL"
      },
      "source": [
        "## Tokenize the sentences\n",
        "tokenizer = Tokenizer(num_words=max_features)\n",
        "tokenizer.fit_on_texts(list(x_train))\n",
        "x_train = tokenizer.texts_to_sequences(x_train)\n",
        "x_test = tokenizer.texts_to_sequences(x_test)\n",
        "\n",
        "## Pad the sentences \n",
        "x_train = pad_sequences(x_train, maxlen=maxlen)\n",
        "x_test= pad_sequences(x_test, maxlen=maxlen)"
      ],
      "execution_count": 24,
      "outputs": []
    },
    {
      "cell_type": "code",
      "metadata": {
        "id": "GcLpRpSq7V8G",
        "colab": {
          "base_uri": "https://localhost:8080/"
        },
        "outputId": "2b8cb255-d340-4434-e440-b945c7dffcc2"
      },
      "source": [
        "print(\"X_test: \",x_train, x_train.shape, x_train.shape[1])\n",
        "print(\"X_test: \",x_test)"
      ],
      "execution_count": 25,
      "outputs": [
        {
          "output_type": "stream",
          "name": "stdout",
          "text": [
            "X_test:  [[    0     0     0 ...     2    23   473]\n",
            " [    0     0     0 ...   151    15   485]\n",
            " [    0     0     0 ...   285  2166   421]\n",
            " ...\n",
            " [    0     0     0 ...   110   336   472]\n",
            " [    0     0     0 ...   158  1641  1364]\n",
            " [    0     0     0 ...     3  1545 39504]] (72079, 750) 750\n",
            "X_test:  [[    0     0     0 ...     4  7198  9446]\n",
            " [    0     0     0 ...    48  1212 63000]\n",
            " [    0     0     0 ...    34  1063   263]\n",
            " ...\n",
            " [    0     0     0 ...   443   533 40492]\n",
            " [    0     0     0 ...  4009    38  1834]\n",
            " [    0     0     0 ...     2     1   342]]\n"
          ]
        }
      ]
    },
    {
      "cell_type": "markdown",
      "source": [
        "Loading Glove Embeddings"
      ],
      "metadata": {
        "id": "d7rI_3COCe7v"
      }
    },
    {
      "cell_type": "code",
      "metadata": {
        "id": "7MWAWS_8jA_L",
        "colab": {
          "base_uri": "https://localhost:8080/"
        },
        "outputId": "7b03a85d-e1fe-4045-ca98-e2fb849adc0e"
      },
      "source": [
        "!wget http://nlp.stanford.edu/data/glove.6B.zip\n",
        "!unzip glove.6B.zip\n",
        "!ls -lat"
      ],
      "execution_count": 26,
      "outputs": [
        {
          "output_type": "stream",
          "name": "stdout",
          "text": [
            "--2022-05-02 17:11:50--  http://nlp.stanford.edu/data/glove.6B.zip\n",
            "Resolving nlp.stanford.edu (nlp.stanford.edu)... 171.64.67.140\n",
            "Connecting to nlp.stanford.edu (nlp.stanford.edu)|171.64.67.140|:80... connected.\n",
            "HTTP request sent, awaiting response... 302 Found\n",
            "Location: https://nlp.stanford.edu/data/glove.6B.zip [following]\n",
            "--2022-05-02 17:11:50--  https://nlp.stanford.edu/data/glove.6B.zip\n",
            "Connecting to nlp.stanford.edu (nlp.stanford.edu)|171.64.67.140|:443... connected.\n",
            "HTTP request sent, awaiting response... 301 Moved Permanently\n",
            "Location: http://downloads.cs.stanford.edu/nlp/data/glove.6B.zip [following]\n",
            "--2022-05-02 17:11:50--  http://downloads.cs.stanford.edu/nlp/data/glove.6B.zip\n",
            "Resolving downloads.cs.stanford.edu (downloads.cs.stanford.edu)... 171.64.64.22\n",
            "Connecting to downloads.cs.stanford.edu (downloads.cs.stanford.edu)|171.64.64.22|:80... connected.\n",
            "HTTP request sent, awaiting response... 200 OK\n",
            "Length: 862182613 (822M) [application/zip]\n",
            "Saving to: ‘glove.6B.zip’\n",
            "\n",
            "glove.6B.zip        100%[===================>] 822.24M  5.13MB/s    in 2m 40s  \n",
            "\n",
            "2022-05-02 17:14:30 (5.15 MB/s) - ‘glove.6B.zip’ saved [862182613/862182613]\n",
            "\n",
            "Archive:  glove.6B.zip\n",
            "  inflating: glove.6B.50d.txt        \n",
            "  inflating: glove.6B.100d.txt       \n",
            "  inflating: glove.6B.200d.txt       \n",
            "  inflating: glove.6B.300d.txt       \n",
            "total 7426588\n",
            "drwxr-xr-x 1 root root       4096 May  2 17:14 .\n",
            "-rw-r--r-- 1 root root 1112624599 May  2 17:09 arxiv.zip\n",
            "-rw-r--r-- 1 root root         75 May  2 17:08 kaggle.json\n",
            "drwxr-xr-x 1 root root       4096 May  2 17:06 ..\n",
            "-rw-r--r-- 1 root root 3380104973 Apr 30 23:53 arxiv-metadata-oai-snapshot.json\n",
            "drwxr-xr-x 1 root root       4096 Apr 29 03:19 sample_data\n",
            "drwxr-xr-x 4 root root       4096 Apr 29 03:18 .config\n",
            "-rw-r--r-- 1 root root  862182613 Oct 25  2015 glove.6B.zip\n",
            "-rw-rw-r-- 1 root root 1037962819 Aug 27  2014 glove.6B.300d.txt\n",
            "-rw-rw-r-- 1 root root  171350079 Aug  4  2014 glove.6B.50d.txt\n",
            "-rw-rw-r-- 1 root root  693432828 Aug  4  2014 glove.6B.200d.txt\n",
            "-rw-rw-r-- 1 root root  347116733 Aug  4  2014 glove.6B.100d.txt\n"
          ]
        }
      ]
    },
    {
      "cell_type": "code",
      "metadata": {
        "id": "vefiYATffxGa"
      },
      "source": [
        "## FUNCTIONS TAKEN FROM https://www.kaggle.com/gmhost/gru-capsule\n",
        "\n",
        "def load_glove(word_index):\n",
        "    EMBEDDING_FILE = '/content/glove.6B.300d.txt'\n",
        "    def get_coefs(word,*arr): return word, np.asarray(arr, dtype='float32')[:300]\n",
        "    embeddings_index = dict(get_coefs(*o.split(\" \")) for o in open(EMBEDDING_FILE))\n",
        "    \n",
        "    all_embs = np.stack(embeddings_index.values())\n",
        "    emb_mean,emb_std = -0.005838499,0.48782197\n",
        "    embed_size = all_embs.shape[1]\n",
        "\n",
        "    nb_words = min(max_features, len(word_index)+1)\n",
        "    embedding_matrix = np.random.normal(emb_mean, emb_std, (nb_words, embed_size))\n",
        "    for word, i in word_index.items():\n",
        "        if i >= max_features: continue\n",
        "        embedding_vector = embeddings_index.get(word)\n",
        "        if embedding_vector is not None: \n",
        "            embedding_matrix[i] = embedding_vector\n",
        "        else:\n",
        "            embedding_vector = embeddings_index.get(word.capitalize())\n",
        "            if embedding_vector is not None: \n",
        "                embedding_matrix[i] = embedding_vector\n",
        "    return embedding_matrix"
      ],
      "execution_count": 27,
      "outputs": []
    },
    {
      "cell_type": "code",
      "metadata": {
        "id": "V-xFcupvgE5r",
        "colab": {
          "base_uri": "https://localhost:8080/"
        },
        "outputId": "7c16e974-cce0-407b-d268-35fc68880c7c"
      },
      "source": [
        "if debug:\n",
        "    embedding_matrix = np.random.randn(120000,300)\n",
        "else:\n",
        "    embedding_matrix = load_glove(tokenizer.word_index)"
      ],
      "execution_count": 28,
      "outputs": [
        {
          "output_type": "stream",
          "name": "stderr",
          "text": [
            "/usr/local/lib/python3.7/dist-packages/IPython/core/interactiveshell.py:2882: FutureWarning: arrays to stack must be passed as a \"sequence\" type such as list or tuple. Support for non-sequence iterables such as generators is deprecated as of NumPy 1.16 and will raise an error in the future.\n",
            "  exec(code_obj, self.user_global_ns, self.user_ns)\n"
          ]
        }
      ]
    },
    {
      "cell_type": "code",
      "metadata": {
        "id": "ugK259cpgExE",
        "colab": {
          "base_uri": "https://localhost:8080/"
        },
        "outputId": "2aba03bb-7eff-4055-db98-8d3e0d8d72c4"
      },
      "source": [
        "np.shape(embedding_matrix)"
      ],
      "execution_count": 29,
      "outputs": [
        {
          "output_type": "execute_result",
          "data": {
            "text/plain": [
              "(120000, 300)"
            ]
          },
          "metadata": {},
          "execution_count": 29
        }
      ]
    },
    {
      "cell_type": "markdown",
      "source": [
        "Model Definition - TextCNN"
      ],
      "metadata": {
        "id": "TEUeGvkz0Ri4"
      }
    },
    {
      "cell_type": "code",
      "metadata": {
        "id": "5x1dTP-0zERM"
      },
      "source": [
        "import torch"
      ],
      "execution_count": 30,
      "outputs": []
    },
    {
      "cell_type": "code",
      "metadata": {
        "id": "-RoN9gN1-wqe"
      },
      "source": [
        "class TextCNN_Classifier(nn.Module):\n",
        "    \n",
        "    def __init__(self):\n",
        "        super(TextCNN_Classifier, self).__init__()\n",
        "        #kernel size will be filter _size * embedding size\n",
        "        # we will have 5 filter covering these many words at a time\n",
        "        self.filter_1 = 1 \n",
        "        self.filter_2 = 2\n",
        "        self.filter_3 = 3\n",
        "        self.filter_4 = 4\n",
        "        self.filter_5 = 5\n",
        "        num_filters = 15 # no of output channels\n",
        "        number_classes = 147\n",
        "        self.embedding = nn.Embedding(max_features, embed_size)\n",
        "        self.embedding.weight = nn.Parameter(torch.tensor(embedding_matrix, dtype=torch.float32))\n",
        "        self.embedding.weight.requires_grad = False\n",
        "        self.conv_1 = nn.Conv2d(1,num_filters,(self.filter_1, embed_size))\n",
        "        self.conv_2 = nn.Conv2d(1,num_filters,(self.filter_2, embed_size))\n",
        "        self.conv_3 = nn.Conv2d(1,num_filters,(self.filter_3, embed_size))\n",
        "        self.conv_4 = nn.Conv2d(1,num_filters,(self.filter_4, embed_size))\n",
        "        self.conv_5 = nn.Conv2d(1,num_filters,(self.filter_5, embed_size))\n",
        "        self.dropout = nn.Dropout(0.1)\n",
        "        self.fc1 = nn.Linear(5*num_filters, number_classes) # number of layers is 5\n",
        "\n",
        "    def forward(self, x):\n",
        "        x = self.embedding(x)  \n",
        "        x =  x.unsqueeze(1)\n",
        "        x1 =  F.max_pool1d( F.relu(self.conv_1(x)).squeeze(3) , F.relu(self.conv_1(x)).squeeze(3).size(2)).squeeze(2)\n",
        "        x2 =  F.max_pool1d( F.relu(self.conv_2(x)).squeeze(3) , F.relu(self.conv_2(x)).squeeze(3).size(2)).squeeze(2)\n",
        "        x3 =  F.max_pool1d( F.relu(self.conv_3(x)).squeeze(3) , F.relu(self.conv_3(x)).squeeze(3).size(2)).squeeze(2)\n",
        "        x4 =  F.max_pool1d( F.relu(self.conv_4(x)).squeeze(3) , F.relu(self.conv_4(x)).squeeze(3).size(2)).squeeze(2)\n",
        "        x5 =  F.max_pool1d( F.relu(self.conv_5(x)).squeeze(3) , F.relu(self.conv_5(x)).squeeze(3).size(2)).squeeze(2)\n",
        "        x = torch.cat((x1,x2,x3,x4,x5),1)\n",
        "        x = self.dropout(x)\n",
        "        x = self.fc1(x) \n",
        "        return x"
      ],
      "execution_count": 31,
      "outputs": []
    },
    {
      "cell_type": "markdown",
      "source": [
        "Training and Testing"
      ],
      "metadata": {
        "id": "h2dizCEgCovJ"
      }
    },
    {
      "cell_type": "code",
      "metadata": {
        "id": "KyNmeLEUlKux",
        "colab": {
          "base_uri": "https://localhost:8080/"
        },
        "outputId": "4422ca2d-8842-43c7-b865-4fc4b9b496e9"
      },
      "source": [
        "n_epochs = 10\n",
        "model = TextCNN_Classifier()\n",
        "loss_fn = nn.CrossEntropyLoss(reduction='sum')\n",
        "optimizer = torch.optim.Adam(filter(lambda p: p.requires_grad, model.parameters()), lr=0.001)\n",
        "model.cuda()\n",
        "\n",
        "\n",
        "# Load train and test in CUDA Memory\n",
        "x_train_2 = torch.tensor((x_train), dtype=torch.long).cuda()\n",
        "y_train_2 = torch.tensor(y_train.values, dtype=torch.long).cuda()\n",
        "x_cv = torch.tensor(x_test, dtype=torch.long).cuda()\n",
        "y_cv = torch.tensor(y_test.values, dtype=torch.long).cuda()\n",
        "\n",
        "# Create Torch datasets\n",
        "train = torch.utils.data.TensorDataset(x_train_2, y_train_2)\n",
        "valid = torch.utils.data.TensorDataset(x_cv, y_cv)\n",
        "\n",
        "# Create Data Loaders\n",
        "train_loader = torch.utils.data.DataLoader(train, batch_size=batch_size, shuffle=True)\n",
        "valid_loader = torch.utils.data.DataLoader(valid, batch_size=batch_size, shuffle=False)\n",
        "\n",
        "train_loss = []\n",
        "valid_loss = []\n",
        "\n",
        "for epoch in range(n_epochs):\n",
        "    # Set model to train configuration\n",
        "    model.train()\n",
        "    avg_loss = 0.  \n",
        "    for i, (x, y) in enumerate(train_loader):\n",
        "        # Predict/Forward Pass\n",
        "        y_pred = model(x)\n",
        "        # Compute loss\n",
        "        loss = loss_fn(y_pred, y)\n",
        "        optimizer.zero_grad()\n",
        "        loss.backward()\n",
        "        optimizer.step()\n",
        "        avg_loss += loss.item() / len(train_loader)\n",
        "    \n",
        "    # Set model to validation configuration -Doesn't get trained here\n",
        "    model.eval()        \n",
        "\n",
        "    val_preds = np.zeros((len(x_cv),147))\n",
        "    #y_pred_2 =[]\n",
        "    y_true =[]\n",
        "    preds = []\n",
        "    labels = []\n",
        "    for i, (x, y) in enumerate(valid_loader):\n",
        "      y_pred_2=torch.argmax(model(x), dim = 1).tolist()\n",
        "      y_pred_2 = map(int, y_pred_2)\n",
        "      preds.extend(list(y_pred_2))\n",
        "      labels.extend(y.tolist())\n",
        "    \n",
        "    val_accuracy = (np.sum(np.array(preds) == np.array(labels)))/len(preds)\n",
        "    f1_scorE_sklearn = f1_score(preds,labels,average=\"weighted\")\n",
        "    print(\"f1 score is: \")\n",
        "    print(f1_scorE_sklearn)\n",
        "    print('Epoch {}/{} \\t val_acc={:.4f} \\t f1_score={:.4f}'.format(\n",
        "                epoch + 1, n_epochs, val_accuracy, f1_scorE_sklearn))\n"
      ],
      "execution_count": 34,
      "outputs": [
        {
          "output_type": "stream",
          "name": "stdout",
          "text": [
            "f1 score is: \n",
            "0.5598598800483839\n",
            "Epoch 1/10 \t val_acc=0.4957 \t f1_score=0.5599\n",
            "f1 score is: \n",
            "0.6413361017140062\n",
            "Epoch 2/10 \t val_acc=0.6010 \t f1_score=0.6413\n",
            "f1 score is: \n",
            "0.67047095514559\n",
            "Epoch 3/10 \t val_acc=0.6362 \t f1_score=0.6705\n",
            "f1 score is: \n",
            "0.6919983161398513\n",
            "Epoch 4/10 \t val_acc=0.6619 \t f1_score=0.6920\n",
            "f1 score is: \n",
            "0.6986327800614305\n",
            "Epoch 5/10 \t val_acc=0.6697 \t f1_score=0.6986\n",
            "f1 score is: \n",
            "0.7032231062260706\n",
            "Epoch 6/10 \t val_acc=0.6779 \t f1_score=0.7032\n",
            "f1 score is: \n",
            "0.705701166322944\n",
            "Epoch 7/10 \t val_acc=0.6827 \t f1_score=0.7057\n",
            "f1 score is: \n",
            "0.71266297568873\n",
            "Epoch 8/10 \t val_acc=0.6909 \t f1_score=0.7127\n",
            "f1 score is: \n",
            "0.7150574408775657\n",
            "Epoch 9/10 \t val_acc=0.6938 \t f1_score=0.7151\n",
            "f1 score is: \n",
            "0.7159971507564344\n",
            "Epoch 10/10 \t val_acc=0.6956 \t f1_score=0.7160\n"
          ]
        }
      ]
    }
  ],
  "metadata": {
    "accelerator": "GPU",
    "colab": {
      "collapsed_sections": [],
      "name": "Copy_of_CIS545_PRELIM_TextCNN(1).ipynb",
      "provenance": []
    },
    "kernelspec": {
      "display_name": "Python 3",
      "name": "python3"
    },
    "language_info": {
      "name": "python"
    },
    "widgets": {
      "application/vnd.jupyter.widget-state+json": {
        "caeb89fa3c2d4557a9738711486ddc26": {
          "model_module": "@jupyter-widgets/controls",
          "model_name": "HBoxModel",
          "model_module_version": "1.5.0",
          "state": {
            "_dom_classes": [],
            "_model_module": "@jupyter-widgets/controls",
            "_model_module_version": "1.5.0",
            "_model_name": "HBoxModel",
            "_view_count": null,
            "_view_module": "@jupyter-widgets/controls",
            "_view_module_version": "1.5.0",
            "_view_name": "HBoxView",
            "box_style": "",
            "children": [
              "IPY_MODEL_0eb810240b074eaabc6f6d4d918797da",
              "IPY_MODEL_3d26990c0bd8413c89f6023806ad7196",
              "IPY_MODEL_2a3b25a3aa484d30a39e97c69c6cc774"
            ],
            "layout": "IPY_MODEL_5fb2cf91bba043cab58c5f4c1863ad32"
          }
        },
        "0eb810240b074eaabc6f6d4d918797da": {
          "model_module": "@jupyter-widgets/controls",
          "model_name": "HTMLModel",
          "model_module_version": "1.5.0",
          "state": {
            "_dom_classes": [],
            "_model_module": "@jupyter-widgets/controls",
            "_model_module_version": "1.5.0",
            "_model_name": "HTMLModel",
            "_view_count": null,
            "_view_module": "@jupyter-widgets/controls",
            "_view_module_version": "1.5.0",
            "_view_name": "HTMLView",
            "description": "",
            "description_tooltip": null,
            "layout": "IPY_MODEL_2b1922ddfbf04281b69ac3677cadd9d0",
            "placeholder": "​",
            "style": "IPY_MODEL_42be30ed02ef461c8b8cc7e522379210",
            "value": ""
          }
        },
        "3d26990c0bd8413c89f6023806ad7196": {
          "model_module": "@jupyter-widgets/controls",
          "model_name": "FloatProgressModel",
          "model_module_version": "1.5.0",
          "state": {
            "_dom_classes": [],
            "_model_module": "@jupyter-widgets/controls",
            "_model_module_version": "1.5.0",
            "_model_name": "FloatProgressModel",
            "_view_count": null,
            "_view_module": "@jupyter-widgets/controls",
            "_view_module_version": "1.5.0",
            "_view_name": "ProgressView",
            "bar_style": "success",
            "description": "",
            "description_tooltip": null,
            "layout": "IPY_MODEL_5b930a37204e4ed2bf482374590d0625",
            "max": 1,
            "min": 0,
            "orientation": "horizontal",
            "style": "IPY_MODEL_16af6c05d860407e88d9cc778191211e",
            "value": 1
          }
        },
        "2a3b25a3aa484d30a39e97c69c6cc774": {
          "model_module": "@jupyter-widgets/controls",
          "model_name": "HTMLModel",
          "model_module_version": "1.5.0",
          "state": {
            "_dom_classes": [],
            "_model_module": "@jupyter-widgets/controls",
            "_model_module_version": "1.5.0",
            "_model_name": "HTMLModel",
            "_view_count": null,
            "_view_module": "@jupyter-widgets/controls",
            "_view_module_version": "1.5.0",
            "_view_name": "HTMLView",
            "description": "",
            "description_tooltip": null,
            "layout": "IPY_MODEL_bf54943db3c5459fbb1b2ac0f23385f7",
            "placeholder": "​",
            "style": "IPY_MODEL_c4f0ff5cefde45e3847a0d8473aed4c6",
            "value": " 2057952/? [01:12&lt;00:00, 30239.70it/s]"
          }
        },
        "5fb2cf91bba043cab58c5f4c1863ad32": {
          "model_module": "@jupyter-widgets/base",
          "model_name": "LayoutModel",
          "model_module_version": "1.2.0",
          "state": {
            "_model_module": "@jupyter-widgets/base",
            "_model_module_version": "1.2.0",
            "_model_name": "LayoutModel",
            "_view_count": null,
            "_view_module": "@jupyter-widgets/base",
            "_view_module_version": "1.2.0",
            "_view_name": "LayoutView",
            "align_content": null,
            "align_items": null,
            "align_self": null,
            "border": null,
            "bottom": null,
            "display": null,
            "flex": null,
            "flex_flow": null,
            "grid_area": null,
            "grid_auto_columns": null,
            "grid_auto_flow": null,
            "grid_auto_rows": null,
            "grid_column": null,
            "grid_gap": null,
            "grid_row": null,
            "grid_template_areas": null,
            "grid_template_columns": null,
            "grid_template_rows": null,
            "height": null,
            "justify_content": null,
            "justify_items": null,
            "left": null,
            "margin": null,
            "max_height": null,
            "max_width": null,
            "min_height": null,
            "min_width": null,
            "object_fit": null,
            "object_position": null,
            "order": null,
            "overflow": null,
            "overflow_x": null,
            "overflow_y": null,
            "padding": null,
            "right": null,
            "top": null,
            "visibility": null,
            "width": null
          }
        },
        "2b1922ddfbf04281b69ac3677cadd9d0": {
          "model_module": "@jupyter-widgets/base",
          "model_name": "LayoutModel",
          "model_module_version": "1.2.0",
          "state": {
            "_model_module": "@jupyter-widgets/base",
            "_model_module_version": "1.2.0",
            "_model_name": "LayoutModel",
            "_view_count": null,
            "_view_module": "@jupyter-widgets/base",
            "_view_module_version": "1.2.0",
            "_view_name": "LayoutView",
            "align_content": null,
            "align_items": null,
            "align_self": null,
            "border": null,
            "bottom": null,
            "display": null,
            "flex": null,
            "flex_flow": null,
            "grid_area": null,
            "grid_auto_columns": null,
            "grid_auto_flow": null,
            "grid_auto_rows": null,
            "grid_column": null,
            "grid_gap": null,
            "grid_row": null,
            "grid_template_areas": null,
            "grid_template_columns": null,
            "grid_template_rows": null,
            "height": null,
            "justify_content": null,
            "justify_items": null,
            "left": null,
            "margin": null,
            "max_height": null,
            "max_width": null,
            "min_height": null,
            "min_width": null,
            "object_fit": null,
            "object_position": null,
            "order": null,
            "overflow": null,
            "overflow_x": null,
            "overflow_y": null,
            "padding": null,
            "right": null,
            "top": null,
            "visibility": null,
            "width": null
          }
        },
        "42be30ed02ef461c8b8cc7e522379210": {
          "model_module": "@jupyter-widgets/controls",
          "model_name": "DescriptionStyleModel",
          "model_module_version": "1.5.0",
          "state": {
            "_model_module": "@jupyter-widgets/controls",
            "_model_module_version": "1.5.0",
            "_model_name": "DescriptionStyleModel",
            "_view_count": null,
            "_view_module": "@jupyter-widgets/base",
            "_view_module_version": "1.2.0",
            "_view_name": "StyleView",
            "description_width": ""
          }
        },
        "5b930a37204e4ed2bf482374590d0625": {
          "model_module": "@jupyter-widgets/base",
          "model_name": "LayoutModel",
          "model_module_version": "1.2.0",
          "state": {
            "_model_module": "@jupyter-widgets/base",
            "_model_module_version": "1.2.0",
            "_model_name": "LayoutModel",
            "_view_count": null,
            "_view_module": "@jupyter-widgets/base",
            "_view_module_version": "1.2.0",
            "_view_name": "LayoutView",
            "align_content": null,
            "align_items": null,
            "align_self": null,
            "border": null,
            "bottom": null,
            "display": null,
            "flex": null,
            "flex_flow": null,
            "grid_area": null,
            "grid_auto_columns": null,
            "grid_auto_flow": null,
            "grid_auto_rows": null,
            "grid_column": null,
            "grid_gap": null,
            "grid_row": null,
            "grid_template_areas": null,
            "grid_template_columns": null,
            "grid_template_rows": null,
            "height": null,
            "justify_content": null,
            "justify_items": null,
            "left": null,
            "margin": null,
            "max_height": null,
            "max_width": null,
            "min_height": null,
            "min_width": null,
            "object_fit": null,
            "object_position": null,
            "order": null,
            "overflow": null,
            "overflow_x": null,
            "overflow_y": null,
            "padding": null,
            "right": null,
            "top": null,
            "visibility": null,
            "width": "20px"
          }
        },
        "16af6c05d860407e88d9cc778191211e": {
          "model_module": "@jupyter-widgets/controls",
          "model_name": "ProgressStyleModel",
          "model_module_version": "1.5.0",
          "state": {
            "_model_module": "@jupyter-widgets/controls",
            "_model_module_version": "1.5.0",
            "_model_name": "ProgressStyleModel",
            "_view_count": null,
            "_view_module": "@jupyter-widgets/base",
            "_view_module_version": "1.2.0",
            "_view_name": "StyleView",
            "bar_color": null,
            "description_width": ""
          }
        },
        "bf54943db3c5459fbb1b2ac0f23385f7": {
          "model_module": "@jupyter-widgets/base",
          "model_name": "LayoutModel",
          "model_module_version": "1.2.0",
          "state": {
            "_model_module": "@jupyter-widgets/base",
            "_model_module_version": "1.2.0",
            "_model_name": "LayoutModel",
            "_view_count": null,
            "_view_module": "@jupyter-widgets/base",
            "_view_module_version": "1.2.0",
            "_view_name": "LayoutView",
            "align_content": null,
            "align_items": null,
            "align_self": null,
            "border": null,
            "bottom": null,
            "display": null,
            "flex": null,
            "flex_flow": null,
            "grid_area": null,
            "grid_auto_columns": null,
            "grid_auto_flow": null,
            "grid_auto_rows": null,
            "grid_column": null,
            "grid_gap": null,
            "grid_row": null,
            "grid_template_areas": null,
            "grid_template_columns": null,
            "grid_template_rows": null,
            "height": null,
            "justify_content": null,
            "justify_items": null,
            "left": null,
            "margin": null,
            "max_height": null,
            "max_width": null,
            "min_height": null,
            "min_width": null,
            "object_fit": null,
            "object_position": null,
            "order": null,
            "overflow": null,
            "overflow_x": null,
            "overflow_y": null,
            "padding": null,
            "right": null,
            "top": null,
            "visibility": null,
            "width": null
          }
        },
        "c4f0ff5cefde45e3847a0d8473aed4c6": {
          "model_module": "@jupyter-widgets/controls",
          "model_name": "DescriptionStyleModel",
          "model_module_version": "1.5.0",
          "state": {
            "_model_module": "@jupyter-widgets/controls",
            "_model_module_version": "1.5.0",
            "_model_name": "DescriptionStyleModel",
            "_view_count": null,
            "_view_module": "@jupyter-widgets/base",
            "_view_module_version": "1.2.0",
            "_view_name": "StyleView",
            "description_width": ""
          }
        }
      }
    }
  },
  "nbformat": 4,
  "nbformat_minor": 0
}